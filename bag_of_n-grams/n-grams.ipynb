{
 "cells": [
  {
   "cell_type": "code",
   "execution_count": 81,
   "id": "573f5588-6273-4d78-bcb9-eb9d52fcb850",
   "metadata": {},
   "outputs": [
    {
     "data": {
      "text/plain": [
       "{'thor': 9,\n",
       " 'is': 2,\n",
       " 'looking': 6,\n",
       " 'for': 0,\n",
       " 'job': 5,\n",
       " 'thor is': 10,\n",
       " 'is looking': 3,\n",
       " 'looking for': 7,\n",
       " 'for job': 1,\n",
       " 'thor is looking': 11,\n",
       " 'is looking for': 4,\n",
       " 'looking for job': 8}"
      ]
     },
     "execution_count": 81,
     "metadata": {},
     "output_type": "execute_result"
    }
   ],
   "source": [
    "from sklearn.feature_extraction.text import CountVectorizer\n",
    "\n",
    "v = CountVectorizer(ngram_range=(1, 3))\n",
    "v.fit([\"Thor is looking for a job.\"])\n",
    "v.vocabulary_"
   ]
  },
  {
   "cell_type": "code",
   "execution_count": 82,
   "id": "1a7b3f6b-f0c4-48b9-93fa-0803a8ec2b36",
   "metadata": {},
   "outputs": [],
   "source": [
    "corpus = [\n",
    "    \"Thor ate pizza\",\n",
    "    \"Othmane is tall\",\n",
    "    \"Othmane is eating pizza\"\n",
    "]"
   ]
  },
  {
   "cell_type": "code",
   "execution_count": 83,
   "id": "12ab8fa0-6d86-4c02-98a0-919eada30cf2",
   "metadata": {},
   "outputs": [],
   "source": [
    "import spacy\n",
    "\n",
    "nlp = spacy.load(\"en_core_web_sm\")\n",
    "\n",
    "def preprocess(text):\n",
    "    # remove stop words and lemmatize the text\n",
    "    doc = nlp(text)\n",
    "\n",
    "    filtered_tokens = []\n",
    "\n",
    "    for token in doc:\n",
    "        if token.is_stop or token.is_punct:\n",
    "            continue\n",
    "        filtered_tokens.append(token.lemma_)\n",
    "\n",
    "    return \" \".join(filtered_tokens)"
   ]
  },
  {
   "cell_type": "code",
   "execution_count": 84,
   "id": "86f69d52-7849-4248-9344-bb1c1f6a6961",
   "metadata": {},
   "outputs": [
    {
     "data": {
      "text/plain": [
       "['thor eat pizza', 'Othmane tall', 'Othmane eat pizza']"
      ]
     },
     "execution_count": 84,
     "metadata": {},
     "output_type": "execute_result"
    }
   ],
   "source": [
    "corpus_processed = [preprocess(text) for text in corpus]\n",
    "corpus_processed"
   ]
  },
  {
   "cell_type": "code",
   "execution_count": 85,
   "id": "7a036ba2-0973-4063-8659-f4107bf7cea0",
   "metadata": {},
   "outputs": [
    {
     "data": {
      "text/plain": [
       "{'thor': 7,\n",
       " 'eat': 0,\n",
       " 'pizza': 5,\n",
       " 'thor eat': 8,\n",
       " 'eat pizza': 1,\n",
       " 'othmane': 2,\n",
       " 'tall': 6,\n",
       " 'othmane tall': 4,\n",
       " 'othmane eat': 3}"
      ]
     },
     "execution_count": 85,
     "metadata": {},
     "output_type": "execute_result"
    }
   ],
   "source": [
    "v = CountVectorizer(ngram_range=(1, 2))\n",
    "v.fit(corpus_processed)\n",
    "v.vocabulary_"
   ]
  },
  {
   "cell_type": "code",
   "execution_count": 86,
   "id": "e4c14c4f-24af-440c-82d2-052f91a38caa",
   "metadata": {},
   "outputs": [
    {
     "data": {
      "text/plain": [
       "array([[1, 1, 0, 0, 0, 1, 0, 1, 1]], dtype=int64)"
      ]
     },
     "execution_count": 86,
     "metadata": {},
     "output_type": "execute_result"
    }
   ],
   "source": [
    "v.transform([\"Thor eat pizza\"]).toarray()"
   ]
  },
  {
   "cell_type": "code",
   "execution_count": 87,
   "id": "aa2a4b22-3cf4-4556-8533-94799841a798",
   "metadata": {},
   "outputs": [
    {
     "data": {
      "text/plain": [
       "array([[1, 1, 0, 0, 0, 1, 0, 0, 0]], dtype=int64)"
      ]
     },
     "execution_count": 87,
     "metadata": {},
     "output_type": "execute_result"
    }
   ],
   "source": [
    "v.transform([\"Hulk eat pizza\"]).toarray()"
   ]
  },
  {
   "cell_type": "code",
   "execution_count": 88,
   "id": "46774fda-b1c4-496b-b085-94709b7da648",
   "metadata": {},
   "outputs": [
    {
     "name": "stdout",
     "output_type": "stream",
     "text": [
      "(12695, 2)\n"
     ]
    },
    {
     "data": {
      "text/html": [
       "<div>\n",
       "<style scoped>\n",
       "    .dataframe tbody tr th:only-of-type {\n",
       "        vertical-align: middle;\n",
       "    }\n",
       "\n",
       "    .dataframe tbody tr th {\n",
       "        vertical-align: top;\n",
       "    }\n",
       "\n",
       "    .dataframe thead th {\n",
       "        text-align: right;\n",
       "    }\n",
       "</style>\n",
       "<table border=\"1\" class=\"dataframe\">\n",
       "  <thead>\n",
       "    <tr style=\"text-align: right;\">\n",
       "      <th></th>\n",
       "      <th>text</th>\n",
       "      <th>category</th>\n",
       "    </tr>\n",
       "  </thead>\n",
       "  <tbody>\n",
       "    <tr>\n",
       "      <th>0</th>\n",
       "      <td>Watching Schrödinger's Cat Die University of C...</td>\n",
       "      <td>SCIENCE</td>\n",
       "    </tr>\n",
       "    <tr>\n",
       "      <th>1</th>\n",
       "      <td>WATCH: Freaky Vortex Opens Up In Flooded Lake</td>\n",
       "      <td>SCIENCE</td>\n",
       "    </tr>\n",
       "    <tr>\n",
       "      <th>2</th>\n",
       "      <td>Entrepreneurs Today Don't Need a Big Budget to...</td>\n",
       "      <td>BUSINESS</td>\n",
       "    </tr>\n",
       "    <tr>\n",
       "      <th>3</th>\n",
       "      <td>These Roads Could Recharge Your Electric Car A...</td>\n",
       "      <td>BUSINESS</td>\n",
       "    </tr>\n",
       "    <tr>\n",
       "      <th>4</th>\n",
       "      <td>Civilian 'Guard' Fires Gun While 'Protecting' ...</td>\n",
       "      <td>CRIME</td>\n",
       "    </tr>\n",
       "  </tbody>\n",
       "</table>\n",
       "</div>"
      ],
      "text/plain": [
       "                                                text  category\n",
       "0  Watching Schrödinger's Cat Die University of C...   SCIENCE\n",
       "1     WATCH: Freaky Vortex Opens Up In Flooded Lake    SCIENCE\n",
       "2  Entrepreneurs Today Don't Need a Big Budget to...  BUSINESS\n",
       "3  These Roads Could Recharge Your Electric Car A...  BUSINESS\n",
       "4  Civilian 'Guard' Fires Gun While 'Protecting' ...     CRIME"
      ]
     },
     "execution_count": 88,
     "metadata": {},
     "output_type": "execute_result"
    }
   ],
   "source": [
    "import pandas as pd\n",
    "\n",
    "df = pd.read_json('news_dataset.json')\n",
    "print(df.shape)\n",
    "\n",
    "df.head()"
   ]
  },
  {
   "cell_type": "code",
   "execution_count": 89,
   "id": "277691d2-fa3f-4b14-99ac-443585e2e8e1",
   "metadata": {},
   "outputs": [
    {
     "data": {
      "text/plain": [
       "category\n",
       "BUSINESS    4254\n",
       "SPORTS      4167\n",
       "CRIME       2893\n",
       "SCIENCE     1381\n",
       "Name: count, dtype: int64"
      ]
     },
     "execution_count": 89,
     "metadata": {},
     "output_type": "execute_result"
    }
   ],
   "source": [
    "df.category.value_counts()"
   ]
  },
  {
   "cell_type": "code",
   "execution_count": 90,
   "id": "674756a4-46a7-4dc0-ba28-aa2a5c4caf93",
   "metadata": {},
   "outputs": [],
   "source": [
    "min_samples = 1381 # we have these many SCIENCE articles and SCIENCE is our minority class\n",
    "\n",
    "df_business = df[df.category == \"BUSINESS\"].sample(min_samples, random_state=1022)\n",
    "df_sports = df[df.category == \"SPORTS\"].sample(min_samples, random_state=1022)\n",
    "df_crime = df[df.category == \"CRIME\"].sample(min_samples, random_state=1022)\n",
    "df_science = df[df.category == \"SCIENCE\"].sample(min_samples, random_state=1022)"
   ]
  },
  {
   "cell_type": "code",
   "execution_count": 91,
   "id": "03c76a18-3ce4-4f53-b075-20bdfe532e0b",
   "metadata": {},
   "outputs": [
    {
     "data": {
      "text/plain": [
       "category\n",
       "BUSINESS    1381\n",
       "SPORTS      1381\n",
       "CRIME       1381\n",
       "SCIENCE     1381\n",
       "Name: count, dtype: int64"
      ]
     },
     "execution_count": 91,
     "metadata": {},
     "output_type": "execute_result"
    }
   ],
   "source": [
    "df_balanced = pd.concat([df_business, df_sports, df_crime, df_science], axis=0)\n",
    "df_balanced.category.value_counts()"
   ]
  },
  {
   "cell_type": "code",
   "execution_count": 92,
   "id": "1793345d-082d-4bfc-bbbb-678288bd9722",
   "metadata": {},
   "outputs": [],
   "source": [
    "target = {'BUSINESS': 0, 'SPORTS': 1, 'CRIME': 2, 'SCIENCE': 3}\n",
    "\n",
    "df_balanced['category_num'] = df_balanced['category'].map({\n",
    "    'BUSINESS': 0,\n",
    "    'SPORTS': 1, \n",
    "    'CRIME': 2, \n",
    "    'SCIENCE': 3\n",
    "})"
   ]
  },
  {
   "cell_type": "code",
   "execution_count": 161,
   "id": "f6524b7a-0862-4e21-aa5f-ecc1f44a1e85",
   "metadata": {},
   "outputs": [
    {
     "data": {
      "text/html": [
       "<div>\n",
       "<style scoped>\n",
       "    .dataframe tbody tr th:only-of-type {\n",
       "        vertical-align: middle;\n",
       "    }\n",
       "\n",
       "    .dataframe tbody tr th {\n",
       "        vertical-align: top;\n",
       "    }\n",
       "\n",
       "    .dataframe thead th {\n",
       "        text-align: right;\n",
       "    }\n",
       "</style>\n",
       "<table border=\"1\" class=\"dataframe\">\n",
       "  <thead>\n",
       "    <tr style=\"text-align: right;\">\n",
       "      <th></th>\n",
       "      <th>text</th>\n",
       "      <th>category</th>\n",
       "      <th>category_num</th>\n",
       "      <th>preprocessed_text</th>\n",
       "    </tr>\n",
       "  </thead>\n",
       "  <tbody>\n",
       "    <tr>\n",
       "      <th>4013</th>\n",
       "      <td>Four Telltale Signs You a Control Freak and Ho...</td>\n",
       "      <td>BUSINESS</td>\n",
       "      <td>0</td>\n",
       "      <td>Telltale sign Control Freak John Doe Control F...</td>\n",
       "    </tr>\n",
       "    <tr>\n",
       "      <th>1380</th>\n",
       "      <td>Tootsie Roll CEO Dies At 95</td>\n",
       "      <td>BUSINESS</td>\n",
       "      <td>0</td>\n",
       "      <td>Tootsie Roll CEO die 95</td>\n",
       "    </tr>\n",
       "    <tr>\n",
       "      <th>7873</th>\n",
       "      <td>Women in Business: Q&amp;A With Renae Scott, Chief...</td>\n",
       "      <td>BUSINESS</td>\n",
       "      <td>0</td>\n",
       "      <td>woman business Q&amp;A Renae Scott Chief Marketing...</td>\n",
       "    </tr>\n",
       "    <tr>\n",
       "      <th>2093</th>\n",
       "      <td>In the Trenches on Black Friday Only Sunday es...</td>\n",
       "      <td>BUSINESS</td>\n",
       "      <td>0</td>\n",
       "      <td>Trenches Black Friday Sunday escape retail han...</td>\n",
       "    </tr>\n",
       "    <tr>\n",
       "      <th>3213</th>\n",
       "      <td>Martin Shkreli Found Guilty On Several Counts ...</td>\n",
       "      <td>BUSINESS</td>\n",
       "      <td>0</td>\n",
       "      <td>Martin Shkreli find Guilty count Fraud trial c...</td>\n",
       "    </tr>\n",
       "  </tbody>\n",
       "</table>\n",
       "</div>"
      ],
      "text/plain": [
       "                                                   text  category  \\\n",
       "4013  Four Telltale Signs You a Control Freak and Ho...  BUSINESS   \n",
       "1380                       Tootsie Roll CEO Dies At 95   BUSINESS   \n",
       "7873  Women in Business: Q&A With Renae Scott, Chief...  BUSINESS   \n",
       "2093  In the Trenches on Black Friday Only Sunday es...  BUSINESS   \n",
       "3213  Martin Shkreli Found Guilty On Several Counts ...  BUSINESS   \n",
       "\n",
       "      category_num                                  preprocessed_text  \n",
       "4013             0  Telltale sign Control Freak John Doe Control F...  \n",
       "1380             0                            Tootsie Roll CEO die 95  \n",
       "7873             0  woman business Q&A Renae Scott Chief Marketing...  \n",
       "2093             0  Trenches Black Friday Sunday escape retail han...  \n",
       "3213             0  Martin Shkreli find Guilty count Fraud trial c...  "
      ]
     },
     "execution_count": 161,
     "metadata": {},
     "output_type": "execute_result"
    }
   ],
   "source": [
    "df_balanced.head()"
   ]
  },
  {
   "cell_type": "code",
   "execution_count": 94,
   "id": "49e41e02-3194-4727-a96d-597e43a8b4a7",
   "metadata": {},
   "outputs": [],
   "source": [
    "from sklearn.model_selection import train_test_split\n",
    "\n",
    "X_train, X_test, y_train, y_test = train_test_split(\n",
    "    df_balanced.text,\n",
    "    df_balanced.category_num,\n",
    "    test_size=0.2,\n",
    "    random_state=1022,\n",
    "    stratify=df_balanced.category_num #same number of each category : 20% from each category\n",
    ")"
   ]
  },
  {
   "cell_type": "code",
   "execution_count": 95,
   "id": "4e083a74-bfc3-4a1c-ae6d-126fcd02b0a4",
   "metadata": {},
   "outputs": [
    {
     "name": "stdout",
     "output_type": "stream",
     "text": [
      "(4419,)\n"
     ]
    },
    {
     "data": {
      "text/plain": [
       "7416    Pele Hospitalized For Back Surgery The legenda...\n",
       "3213    Martin Shkreli Found Guilty On Several Counts ...\n",
       "2368    LISTEN: How Our Obsession With Killing Bacteri...\n",
       "4334    Wal-Mart To Challenge Amazon On Drone Delivery...\n",
       "4235    ISIS Claims Minnesota Mall Attack Was Carried ...\n",
       "Name: text, dtype: object"
      ]
     },
     "execution_count": 95,
     "metadata": {},
     "output_type": "execute_result"
    }
   ],
   "source": [
    "print(X_train.shape)\n",
    "X_train.head()"
   ]
  },
  {
   "cell_type": "code",
   "execution_count": 96,
   "id": "58d1a4dd-d555-4b29-9922-ebf1620a9a3c",
   "metadata": {},
   "outputs": [
    {
     "data": {
      "text/plain": [
       "category_num\n",
       "0    277\n",
       "2    276\n",
       "1    276\n",
       "3    276\n",
       "Name: count, dtype: int64"
      ]
     },
     "execution_count": 96,
     "metadata": {},
     "output_type": "execute_result"
    }
   ],
   "source": [
    "y_test.value_counts() #to verify stratify"
   ]
  },
  {
   "cell_type": "code",
   "execution_count": 97,
   "id": "8bce2b82-8c4d-4c76-ac1b-1f8b12a3d166",
   "metadata": {},
   "outputs": [
    {
     "name": "stdout",
     "output_type": "stream",
     "text": [
      "              precision    recall  f1-score   support\n",
      "\n",
      "           0       0.81      0.92      0.86       277\n",
      "           1       0.93      0.87      0.90       276\n",
      "           2       0.88      0.90      0.89       276\n",
      "           3       0.93      0.85      0.89       276\n",
      "\n",
      "    accuracy                           0.88      1105\n",
      "   macro avg       0.89      0.88      0.88      1105\n",
      "weighted avg       0.89      0.88      0.88      1105\n",
      "\n"
     ]
    }
   ],
   "source": [
    "from sklearn.naive_bayes import MultinomialNB\n",
    "from sklearn.pipeline import Pipeline\n",
    "from sklearn.metrics import classification_report\n",
    "\n",
    "#create a pipeline object\n",
    "clf = Pipeline([\n",
    "     ('vectorizer_bow', CountVectorizer(ngram_range = (1, 1))),        #using the ngram_range parameter , just 1 here\n",
    "     ('Multi NB', MultinomialNB())         \n",
    "])\n",
    "\n",
    "#fit with X_train and y_train\n",
    "clf.fit(X_train, y_train)\n",
    "\n",
    "y_pred = clf.predict(X_test)\n",
    "\n",
    "print(classification_report(y_test, y_pred))"
   ]
  },
  {
   "cell_type": "code",
   "execution_count": 98,
   "id": "95862922-2d25-4f39-925b-b5c462bc030f",
   "metadata": {},
   "outputs": [
    {
     "data": {
      "text/plain": [
       "3787    Second Victim Dies After Shooting At Florida G...\n",
       "3741    From Test to Taste: The Journey Of A Coffee Be...\n",
       "1860    Zach LaVine Dunk At All-Star Contest Is Unbeli...\n",
       "6825    College Student Killed While Playing 'Pokemon ...\n",
       "2830    Adorable Cotton Candy Girl Is The Hero We All ...\n",
       "Name: text, dtype: object"
      ]
     },
     "execution_count": 98,
     "metadata": {},
     "output_type": "execute_result"
    }
   ],
   "source": [
    "X_test[:5]"
   ]
  },
  {
   "cell_type": "code",
   "execution_count": 99,
   "id": "f75ffb4c-8463-463f-81e7-eb55121311e1",
   "metadata": {},
   "outputs": [
    {
     "data": {
      "text/plain": [
       "3787    2\n",
       "3741    0\n",
       "1860    1\n",
       "6825    2\n",
       "2830    1\n",
       "Name: category_num, dtype: int64"
      ]
     },
     "execution_count": 99,
     "metadata": {},
     "output_type": "execute_result"
    }
   ],
   "source": [
    "y_test[:5]"
   ]
  },
  {
   "cell_type": "code",
   "execution_count": 100,
   "id": "c4754248-1e41-42f7-add3-5b4670375ac3",
   "metadata": {},
   "outputs": [
    {
     "data": {
      "text/plain": [
       "array([2, 0, 1, 2, 1], dtype=int64)"
      ]
     },
     "execution_count": 100,
     "metadata": {},
     "output_type": "execute_result"
    }
   ],
   "source": [
    "y_pred[:5] #to compare it with real result"
   ]
  },
  {
   "cell_type": "code",
   "execution_count": 101,
   "id": "be3289b8-2ac8-4058-8962-d2fc0b44a204",
   "metadata": {},
   "outputs": [
    {
     "name": "stdout",
     "output_type": "stream",
     "text": [
      "              precision    recall  f1-score   support\n",
      "\n",
      "           0       0.73      0.93      0.82       277\n",
      "           1       0.94      0.80      0.86       276\n",
      "           2       0.89      0.88      0.89       276\n",
      "           3       0.93      0.82      0.87       276\n",
      "\n",
      "    accuracy                           0.86      1105\n",
      "   macro avg       0.87      0.86      0.86      1105\n",
      "weighted avg       0.87      0.86      0.86      1105\n",
      "\n"
     ]
    }
   ],
   "source": [
    "clf = Pipeline([\n",
    "     ('vectorizer_1_2_gram', CountVectorizer(ngram_range = (1, 2))),        #using the ngram_range parameter , 1 & 2 here\n",
    "     ('Multi NB', MultinomialNB())         \n",
    "])\n",
    "\n",
    "#fit with X_train and y_train\n",
    "clf.fit(X_train, y_train)\n",
    "\n",
    "y_pred = clf.predict(X_test)\n",
    "\n",
    "print(classification_report(y_test, y_pred))"
   ]
  },
  {
   "cell_type": "code",
   "execution_count": 102,
   "id": "89defa27-51fb-43f9-8944-73474105367a",
   "metadata": {},
   "outputs": [
    {
     "name": "stdout",
     "output_type": "stream",
     "text": [
      "              precision    recall  f1-score   support\n",
      "\n",
      "           0       0.71      0.93      0.80       277\n",
      "           1       0.95      0.79      0.86       276\n",
      "           2       0.89      0.89      0.89       276\n",
      "           3       0.92      0.80      0.85       276\n",
      "\n",
      "    accuracy                           0.85      1105\n",
      "   macro avg       0.87      0.85      0.85      1105\n",
      "weighted avg       0.87      0.85      0.85      1105\n",
      "\n"
     ]
    }
   ],
   "source": [
    "clf = Pipeline([\n",
    "     ('vectorizer_1_3_gram', CountVectorizer(ngram_range = (1, 3))),        #using the ngram_range parameter , 1 to 3 here\n",
    "     ('Multi NB', MultinomialNB())         \n",
    "])\n",
    "\n",
    "#fit with X_train and y_train\n",
    "clf.fit(X_train, y_train)\n",
    "\n",
    "y_pred = clf.predict(X_test)\n",
    "\n",
    "print(classification_report(y_test, y_pred))"
   ]
  },
  {
   "cell_type": "code",
   "execution_count": 137,
   "id": "a08473f5-8625-4371-86c3-d66c9654c3d6",
   "metadata": {},
   "outputs": [],
   "source": [
    "#we wanted to train the model without any preprocessing first and check the performance.\n",
    "#Now we will re-do same thing but with preprocessing of text\n",
    "df_balanced['preprocessed_text'] = df_balanced['text'].apply(preprocess)"
   ]
  },
  {
   "cell_type": "code",
   "execution_count": 138,
   "id": "fd824661-a9f1-4c12-84bd-536fc17b983a",
   "metadata": {},
   "outputs": [
    {
     "data": {
      "text/html": [
       "<div>\n",
       "<style scoped>\n",
       "    .dataframe tbody tr th:only-of-type {\n",
       "        vertical-align: middle;\n",
       "    }\n",
       "\n",
       "    .dataframe tbody tr th {\n",
       "        vertical-align: top;\n",
       "    }\n",
       "\n",
       "    .dataframe thead th {\n",
       "        text-align: right;\n",
       "    }\n",
       "</style>\n",
       "<table border=\"1\" class=\"dataframe\">\n",
       "  <thead>\n",
       "    <tr style=\"text-align: right;\">\n",
       "      <th></th>\n",
       "      <th>text</th>\n",
       "      <th>category</th>\n",
       "      <th>category_num</th>\n",
       "      <th>preprocessed_text</th>\n",
       "    </tr>\n",
       "  </thead>\n",
       "  <tbody>\n",
       "    <tr>\n",
       "      <th>4013</th>\n",
       "      <td>Four Telltale Signs You a Control Freak and Ho...</td>\n",
       "      <td>BUSINESS</td>\n",
       "      <td>0</td>\n",
       "      <td>Telltale sign Control Freak John Doe Control F...</td>\n",
       "    </tr>\n",
       "    <tr>\n",
       "      <th>1380</th>\n",
       "      <td>Tootsie Roll CEO Dies At 95</td>\n",
       "      <td>BUSINESS</td>\n",
       "      <td>0</td>\n",
       "      <td>Tootsie Roll CEO die 95</td>\n",
       "    </tr>\n",
       "    <tr>\n",
       "      <th>7873</th>\n",
       "      <td>Women in Business: Q&amp;A With Renae Scott, Chief...</td>\n",
       "      <td>BUSINESS</td>\n",
       "      <td>0</td>\n",
       "      <td>woman business Q&amp;A Renae Scott Chief Marketing...</td>\n",
       "    </tr>\n",
       "    <tr>\n",
       "      <th>2093</th>\n",
       "      <td>In the Trenches on Black Friday Only Sunday es...</td>\n",
       "      <td>BUSINESS</td>\n",
       "      <td>0</td>\n",
       "      <td>Trenches Black Friday Sunday escape retail han...</td>\n",
       "    </tr>\n",
       "    <tr>\n",
       "      <th>3213</th>\n",
       "      <td>Martin Shkreli Found Guilty On Several Counts ...</td>\n",
       "      <td>BUSINESS</td>\n",
       "      <td>0</td>\n",
       "      <td>Martin Shkreli find Guilty count Fraud trial c...</td>\n",
       "    </tr>\n",
       "  </tbody>\n",
       "</table>\n",
       "</div>"
      ],
      "text/plain": [
       "                                                   text  category  \\\n",
       "4013  Four Telltale Signs You a Control Freak and Ho...  BUSINESS   \n",
       "1380                       Tootsie Roll CEO Dies At 95   BUSINESS   \n",
       "7873  Women in Business: Q&A With Renae Scott, Chief...  BUSINESS   \n",
       "2093  In the Trenches on Black Friday Only Sunday es...  BUSINESS   \n",
       "3213  Martin Shkreli Found Guilty On Several Counts ...  BUSINESS   \n",
       "\n",
       "      category_num                                  preprocessed_text  \n",
       "4013             0  Telltale sign Control Freak John Doe Control F...  \n",
       "1380             0                            Tootsie Roll CEO die 95  \n",
       "7873             0  woman business Q&A Renae Scott Chief Marketing...  \n",
       "2093             0  Trenches Black Friday Sunday escape retail han...  \n",
       "3213             0  Martin Shkreli find Guilty count Fraud trial c...  "
      ]
     },
     "execution_count": 138,
     "metadata": {},
     "output_type": "execute_result"
    }
   ],
   "source": [
    "df_balanced.head()"
   ]
  },
  {
   "cell_type": "code",
   "execution_count": 143,
   "id": "3b2c420a-e024-4565-80b4-2dc99ceef408",
   "metadata": {},
   "outputs": [],
   "source": [
    "X_train, X_test, y_train, y_test = train_test_split(\n",
    "    df_balanced.preprocessed_text,\n",
    "    df_balanced.category_num,\n",
    "    test_size=0.2,\n",
    "    random_state=1022,\n",
    "    stratify=df_balanced.category_num #same number of each category : 20% from each category\n",
    ")"
   ]
  },
  {
   "cell_type": "code",
   "execution_count": 145,
   "id": "554dcf23-ac95-462d-bd80-968556b6891a",
   "metadata": {},
   "outputs": [
    {
     "name": "stdout",
     "output_type": "stream",
     "text": [
      "(4419,)\n"
     ]
    },
    {
     "data": {
      "text/plain": [
       "7416    Pele hospitalize Surgery legendary soccer play...\n",
       "3213    Martin Shkreli find Guilty count Fraud trial c...\n",
       "2368      LISTEN Obsession Killing Bacteria actually kill\n",
       "4334    Wal Mart challenge Amazon Drone Delivery retai...\n",
       "4235    ISIS Claims Minnesota Mall Attack carry Suppor...\n",
       "Name: preprocessed_text, dtype: object"
      ]
     },
     "execution_count": 145,
     "metadata": {},
     "output_type": "execute_result"
    }
   ],
   "source": [
    "print(X_train.shape)\n",
    "X_train.head()"
   ]
  },
  {
   "cell_type": "code",
   "execution_count": 147,
   "id": "faaa4407-0cbf-413b-9474-c3e9603529e0",
   "metadata": {},
   "outputs": [
    {
     "data": {
      "text/plain": [
       "category_num\n",
       "1    1105\n",
       "3    1105\n",
       "2    1105\n",
       "0    1104\n",
       "Name: count, dtype: int64"
      ]
     },
     "execution_count": 147,
     "metadata": {},
     "output_type": "execute_result"
    }
   ],
   "source": [
    "y_train.value_counts()"
   ]
  },
  {
   "cell_type": "code",
   "execution_count": 149,
   "id": "adb9046a-5942-4ded-b548-72033bd7a859",
   "metadata": {},
   "outputs": [
    {
     "name": "stdout",
     "output_type": "stream",
     "text": [
      "              precision    recall  f1-score   support\n",
      "\n",
      "           0       0.85      0.92      0.88       277\n",
      "           1       0.94      0.88      0.91       276\n",
      "           2       0.86      0.93      0.90       276\n",
      "           3       0.94      0.84      0.89       276\n",
      "\n",
      "    accuracy                           0.89      1105\n",
      "   macro avg       0.90      0.89      0.89      1105\n",
      "weighted avg       0.90      0.89      0.89      1105\n",
      "\n"
     ]
    }
   ],
   "source": [
    "clf = Pipeline([\n",
    "     ('vectorizer_1_2_gram', CountVectorizer(ngram_range = (1, 2))),        #using the ngram_range parameter , 1 & 2 here\n",
    "     ('Multi NB', MultinomialNB())         \n",
    "])\n",
    "\n",
    "#fit with X_train and y_train\n",
    "clf.fit(X_train, y_train)\n",
    "\n",
    "y_pred = clf.predict(X_test)\n",
    "\n",
    "print(classification_report(y_test, y_pred))"
   ]
  },
  {
   "cell_type": "markdown",
   "id": "97b7a3e8-a5ee-4fe8-9bf6-ee877c2beb05",
   "metadata": {},
   "source": [
    "There is some improvement in the model that uses preprocessed cleaned up text. Hence we can conclude that for this particular problem using preprocessing (removing stop words, lemmatization) is improving the performance of the model"
   ]
  },
  {
   "cell_type": "code",
   "execution_count": 151,
   "id": "d9caf7c7-d88a-4af3-add3-b13a286a874c",
   "metadata": {},
   "outputs": [
    {
     "data": {
      "text/plain": [
       "array([[254,   5,  11,   7],\n",
       "       [ 10, 242,  19,   5],\n",
       "       [ 12,   2, 258,   4],\n",
       "       [ 24,   8,  11, 233]], dtype=int64)"
      ]
     },
     "execution_count": 151,
     "metadata": {},
     "output_type": "execute_result"
    }
   ],
   "source": [
    "from sklearn.metrics import confusion_matrix\n",
    "cm = confusion_matrix(y_test, y_pred)\n",
    "cm"
   ]
  },
  {
   "cell_type": "code",
   "execution_count": 159,
   "id": "ec7c30be-a800-4e3d-90a6-41064ea20752",
   "metadata": {},
   "outputs": [
    {
     "data": {
      "text/plain": [
       "Text(95.72222222222221, 0.5, 'REALITY')"
      ]
     },
     "execution_count": 159,
     "metadata": {},
     "output_type": "execute_result"
    },
    {
     "data": {
      "image/png": "[encoded data removed]",
      "text/plain": [
       "<Figure size 1000x700 with 2 Axes>"
      ]
     },
     "metadata": {},
     "output_type": "display_data"
    }
   ],
   "source": [
    "from matplotlib import pyplot as plt\n",
    "import seaborn as sn\n",
    "\n",
    "categories = ['BUSINESS', 'SPORTS', 'CRIME', 'SCIENCE'] #to replace the numeric indices with their category names\n",
    "\n",
    "plt.figure(figsize = (10,7))\n",
    "sn.heatmap(cm, \n",
    "           annot=True, \n",
    "           fmt='d',\n",
    "           xticklabels=categories, \n",
    "           yticklabels=categories\n",
    "          )\n",
    "plt.xlabel('PREDICTION')\n",
    "plt.ylabel('REALITY')"
   ]
  }
 ],
 "metadata": {
  "kernelspec": {
   "display_name": "Python [conda env:base] *",
   "language": "python",
   "name": "conda-base-py"
  },
  "language_info": {
   "codemirror_mode": {
    "name": "ipython",
    "version": 3
   },
   "file_extension": ".py",
   "mimetype": "text/x-python",
   "name": "python",
   "nbconvert_exporter": "python",
   "pygments_lexer": "ipython3",
   "version": "3.12.7"
  }
 },
 "nbformat": 4,
 "nbformat_minor": 5
}
