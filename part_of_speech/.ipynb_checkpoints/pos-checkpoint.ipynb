{
 "cells": [
  {
   "cell_type": "code",
   "execution_count": 1,
   "id": "9fab57c8-fea8-4a2d-8ef1-4b4c9e8dba5e",
   "metadata": {},
   "outputs": [],
   "source": [
    "import spacy"
   ]
  },
  {
   "cell_type": "code",
   "execution_count": null,
   "id": "575bfc0a-cdd9-464e-bb70-05dd693ad0b8",
   "metadata": {},
   "outputs": [],
   "source": [
    "nlp = spacy.load(\"en_core_web_sm\")"
   ]
  },
  {
   "cell_type": "code",
   "execution_count": 8,
   "id": "bc0c399d-91ed-4637-a88c-db09856820f6",
   "metadata": {},
   "outputs": [
    {
     "data": {
      "text/plain": [
       "['tok2vec', 'tagger', 'parser', 'attribute_ruler', 'lemmatizer', 'ner']"
      ]
     },
     "execution_count": 8,
     "metadata": {},
     "output_type": "execute_result"
    }
   ],
   "source": [
    "nlp.pipe_names"
   ]
  },
  {
   "cell_type": "code",
   "execution_count": 21,
   "id": "057f682d-5126-489e-b800-8864cdd707c0",
   "metadata": {},
   "outputs": [
    {
     "name": "stdout",
     "output_type": "stream",
     "text": [
      "Othmane  |  PROPN  |  proper noun  |  NNP  |  noun, proper singular\n",
      "talked  |  VERB  |  verb  |  VBD  |  verb, past tense\n",
      "for  |  ADP  |  adposition  |  IN  |  conjunction, subordinating or preposition\n",
      "3  |  NUM  |  numeral  |  CD  |  cardinal number\n",
      "hours  |  NOUN  |  noun  |  NNS  |  noun, plural\n",
      "although  |  SCONJ  |  subordinating conjunction  |  IN  |  conjunction, subordinating or preposition\n",
      "talking  |  VERB  |  verb  |  VBG  |  verb, gerund or present participle\n",
      "is  |  AUX  |  auxiliary  |  VBZ  |  verb, 3rd person singular present\n",
      "n't  |  PART  |  particle  |  RB  |  adverb\n",
      "his  |  PRON  |  pronoun  |  PRP$  |  pronoun, possessive\n",
      "thing  |  NOUN  |  noun  |  NN  |  noun, singular or mass\n",
      ".  |  PUNCT  |  punctuation  |  .  |  punctuation mark, sentence closer\n",
      "He  |  PRON  |  pronoun  |  PRP  |  pronoun, personal\n",
      "is  |  AUX  |  auxiliary  |  VBZ  |  verb, 3rd person singular present\n",
      "crazy  |  ADJ  |  adjective  |  JJ  |  adjective (English), other noun-modifier (Chinese)\n",
      "!  |  PUNCT  |  punctuation  |  .  |  punctuation mark, sentence closer\n"
     ]
    }
   ],
   "source": [
    "doc = nlp(\"Othmane talked for 3 hours although talking isn't his thing. He is crazy!\")\n",
    "for token in doc:\n",
    "    print(token, \" | \", token.pos_, \" | \", spacy.explain(token.pos_), \" | \", token.tag_, \" | \", spacy.explain(token.tag_))"
   ]
  },
  {
   "cell_type": "code",
   "execution_count": 30,
   "id": "cd353e3a-52d2-4e2a-a29c-4c82d20d1b0d",
   "metadata": {},
   "outputs": [],
   "source": [
    "doc = nlp(\"Our plan has always been to make Copilot in the Microsoft 365 apps more accessible to a wider audience at a great price. We planned \"\n",
    "\"several steps in our Copilot journey to listen, learn, and improve usability and performance. In January 2024, we started that journey by launching \"\n",
    "\"Microsoft Copilot Pro to our consumer early adopters, learning that access to Copilot in the Microsoft 365 apps is a top reason for subscribing etc. And in \"\n",
    "\"October 2024, we launched a pilot of the changes we’re announcing today in a small set of markets. We’re officially taking the next big step by making \"\n",
    "\"Copilot part of our Microsoft 365 Personal and Family subscriptions. Most of our 84 million consumer subscribers will now have access to Copilot in Word, \"\n",
    "\"Excel, PowerPoint, Outlook, OneNote, and the newly renamed Microsoft 365 Copilot app. We’re delighted to empower millions of our customers with an AI \"\n",
    "\"assistant that supercharges the productivity apps they already know and love. We’ll continue offering Copilot Pro for consumers with extensive usage needs, \"\n",
    "\"along with Microsoft 365 Copilot, our commercial offering, for organizations of all sizes.\")\n",
    "\n",
    "filtered_tokens = []\n",
    "for token in doc:\n",
    "    if token.pos_ not in [\"SPACE\", \"X\", \"PUNCT\"]:\n",
    "        #print(token, \" | \", token.pos_, \" | \", spacy.explain(token.pos_), \" | \", token.tag_, \" | \", spacy.explain(token.tag_))\n",
    "        filtered_tokens.append(token)"
   ]
  },
  {
   "cell_type": "code",
   "execution_count": 32,
   "id": "fed0b5af-ce1e-4372-ab76-6e43abb3e6fb",
   "metadata": {},
   "outputs": [
    {
     "data": {
      "text/plain": [
       "[Our,\n",
       " plan,\n",
       " has,\n",
       " always,\n",
       " been,\n",
       " to,\n",
       " make,\n",
       " Copilot,\n",
       " in,\n",
       " the,\n",
       " Microsoft,\n",
       " 365,\n",
       " apps,\n",
       " more,\n",
       " accessible,\n",
       " to,\n",
       " a,\n",
       " wider,\n",
       " audience,\n",
       " at]"
      ]
     },
     "execution_count": 32,
     "metadata": {},
     "output_type": "execute_result"
    }
   ],
   "source": [
    "filtered_tokens[:20]"
   ]
  },
  {
   "cell_type": "code",
   "execution_count": 33,
   "id": "24e7b06c-416d-4358-986c-d65ca90b5693",
   "metadata": {},
   "outputs": [
    {
     "data": {
      "text/plain": [
       "{95: 16,\n",
       " 92: 40,\n",
       " 87: 7,\n",
       " 86: 6,\n",
       " 94: 3,\n",
       " 100: 22,\n",
       " 85: 27,\n",
       " 90: 13,\n",
       " 96: 24,\n",
       " 93: 9,\n",
       " 84: 13,\n",
       " 97: 21,\n",
       " 89: 6,\n",
       " 98: 2,\n",
       " 101: 1}"
      ]
     },
     "execution_count": 33,
     "metadata": {},
     "output_type": "execute_result"
    }
   ],
   "source": [
    "# want to know number of each pos\n",
    "count =  doc.count_by(spacy.attrs.POS)\n",
    "count"
   ]
  },
  {
   "cell_type": "code",
   "execution_count": 37,
   "id": "a2aa22c3-a0f4-46b4-ad39-d5883d51dbab",
   "metadata": {},
   "outputs": [
    {
     "data": {
      "text/plain": [
       "'PRON'"
      ]
     },
     "execution_count": 37,
     "metadata": {},
     "output_type": "execute_result"
    }
   ],
   "source": [
    "for k,v in count.items(\n",
    "doc.vocab[95].text"
   ]
  },
  {
   "cell_type": "code",
   "execution_count": null,
   "id": "4f79bd29-c92b-463c-bc06-64a4cc28f3ca",
   "metadata": {},
   "outputs": [],
   "source": []
  }
 ],
 "metadata": {
  "kernelspec": {
   "display_name": "anaconda-ai-2024.04-py310",
   "language": "python",
   "name": "conda-env-anaconda-ai-2024.04-py310-py"
  },
  "language_info": {
   "codemirror_mode": {
    "name": "ipython",
    "version": 3
   },
   "file_extension": ".py",
   "mimetype": "text/x-python",
   "name": "python",
   "nbconvert_exporter": "python",
   "pygments_lexer": "ipython3",
   "version": "3.10.13"
  }
 },
 "nbformat": 4,
 "nbformat_minor": 5
}
