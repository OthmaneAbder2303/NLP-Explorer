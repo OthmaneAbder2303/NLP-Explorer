{
 "cells": [
  {
   "cell_type": "code",
   "execution_count": 1,
   "id": "9e67c644-790d-43ad-9f75-4660eb96bbad",
   "metadata": {},
   "outputs": [],
   "source": [
    "#!pip install spacy\n",
    "import spacy\n",
    "#!python -m spacy download en_core_web_sm"
   ]
  },
  {
   "cell_type": "code",
   "execution_count": 2,
   "id": "80533c69-2a35-44cf-94c0-bfafa1eb5be6",
   "metadata": {},
   "outputs": [
    {
     "name": "stdout",
     "output_type": "stream",
     "text": [
      "Dr. strange love koutoubiya of Marrakech.\n",
      "Oth loves hiking\n"
     ]
    }
   ],
   "source": [
    "nlp = spacy.load(\"en_core_web_sm\")\n",
    "\n",
    "doc = nlp(\"Dr. strange love koutoubiya of Marrakech. Oth loves hiking\")\n",
    "\n",
    "for sentence in doc.sents:\n",
    "    print(sentence)"
   ]
  },
  {
   "cell_type": "code",
   "execution_count": 3,
   "id": "f24ba481-bcd3-47ea-8139-1073229fbc2b",
   "metadata": {},
   "outputs": [
    {
     "name": "stderr",
     "output_type": "stream",
     "text": [
      "[nltk_data] Downloading package punkt to\n",
      "[nltk_data]     /home/10935767-f309-47ee-a07b-\n",
      "[nltk_data]     76eaaa9e988c/nltk_data...\n",
      "[nltk_data]   Package punkt is already up-to-date!\n"
     ]
    },
    {
     "data": {
      "text/plain": [
       "True"
      ]
     },
     "execution_count": 3,
     "metadata": {},
     "output_type": "execute_result"
    }
   ],
   "source": [
    "import nltk\n",
    "\n",
    "nltk.download('punkt')"
   ]
  },
  {
   "cell_type": "code",
   "execution_count": 7,
   "id": "86ea2c21-94b0-4c48-91e0-36b746973403",
   "metadata": {},
   "outputs": [
    {
     "data": {
      "text/plain": [
       "['Dr. strange love koutoubiya of Marrakech.', 'Oth loves hiking.', 'HEy bro!']"
      ]
     },
     "execution_count": 7,
     "metadata": {},
     "output_type": "execute_result"
    }
   ],
   "source": [
    "from nltk.tokenize import sent_tokenize\n",
    "\n",
    "sent_tokenize(\"Dr. strange love koutoubiya of Marrakech. Oth loves hiking. HEy bro!\")"
   ]
  },
  {
   "cell_type": "code",
   "execution_count": 9,
   "id": "addc4d5c-b48f-49ec-b0b9-d15afe4ed176",
   "metadata": {},
   "outputs": [
    {
     "data": {
      "text/plain": [
       "['Dr.',\n",
       " 'strange',\n",
       " 'love',\n",
       " 'koutoubiya',\n",
       " 'of',\n",
       " 'Marrakech',\n",
       " '.',\n",
       " 'Oth',\n",
       " 'loves',\n",
       " 'hiking',\n",
       " '.',\n",
       " 'HEy',\n",
       " 'bro',\n",
       " '!']"
      ]
     },
     "execution_count": 9,
     "metadata": {},
     "output_type": "execute_result"
    }
   ],
   "source": [
    "from nltk.tokenize import word_tokenize\n",
    "\n",
    "word_tokenize(\"Dr. strange love koutoubiya of Marrakech. Oth loves hiking. HEy bro!\")"
   ]
  },
  {
   "cell_type": "code",
   "execution_count": null,
   "id": "3c5c3686-eae2-40cd-95bf-ef451bdf5eba",
   "metadata": {},
   "outputs": [],
   "source": []
  }
 ],
 "metadata": {
  "kernelspec": {
   "display_name": "anaconda-ai-2024.04-py310",
   "language": "python",
   "name": "conda-env-anaconda-ai-2024.04-py310-py"
  },
  "language_info": {
   "codemirror_mode": {
    "name": "ipython",
    "version": 3
   },
   "file_extension": ".py",
   "mimetype": "text/x-python",
   "name": "python",
   "nbconvert_exporter": "python",
   "pygments_lexer": "ipython3",
   "version": "3.10.13"
  }
 },
 "nbformat": 4,
 "nbformat_minor": 5
}
