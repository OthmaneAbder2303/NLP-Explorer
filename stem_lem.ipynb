{
 "cells": [
  {
   "cell_type": "code",
   "execution_count": null,
   "id": "6b2f8078-08a3-4161-9f7e-2ef5e24525f9",
   "metadata": {},
   "outputs": [],
   "source": [
    "import spacy"
   ]
  },
  {
   "cell_type": "code",
   "execution_count": 6,
   "id": "a2ecb854-b8a1-45ed-a485-07492d87602c",
   "metadata": {},
   "outputs": [],
   "source": [
    "from nltk.stem import PorterStemmer\n",
    "stemmer = PorterStemmer()\n",
    "\n",
    "import nltk\n",
    "#nltk.download('punkt')"
   ]
  },
  {
   "cell_type": "code",
   "execution_count": 10,
   "id": "08a64899-28c5-4fdd-b99d-729a54401b35",
   "metadata": {},
   "outputs": [
    {
     "name": "stdout",
     "output_type": "stream",
     "text": [
      "eating \t eat\n",
      "eats \t eat\n",
      "eat \t eat\n",
      "ate \t ate\n",
      "adjustable \t adjust\n",
      "rafting \t raft\n",
      "ability \t abil\n",
      "meeting \t meet\n"
     ]
    }
   ],
   "source": [
    "words = [\"eating\", \"eats\", \"eat\", \"ate\", \"adjustable\", \"rafting\", \"ability\", \"meeting\"]\n",
    "\n",
    "for word in words:\n",
    "    print(word, \"\\t\", stemmer.stem(word))"
   ]
  },
  {
   "cell_type": "code",
   "execution_count": 12,
   "id": "4e89918e-f86e-4328-927d-d4d8023fffc0",
   "metadata": {},
   "outputs": [
    {
     "name": "stdout",
     "output_type": "stream",
     "text": [
      "eating \t eat \t 9837207709914848172\n",
      "eats \t eat \t 9837207709914848172\n",
      "eat \t eat \t 9837207709914848172\n",
      "ate \t eat \t 9837207709914848172\n",
      "adjustable \t adjustable \t 6033511944150694480\n",
      "rafting \t raft \t 7154368781129989833\n",
      "ability \t ability \t 11565809527369121409\n",
      "meeting \t meet \t 6880656908171229526\n",
      "better \t well \t 4525988469032889948\n"
     ]
    }
   ],
   "source": [
    "nlp = spacy.load(\"en_core_web_sm\")\n",
    "\n",
    "doc = nlp(\"Mando talked for 3 hours although talking isn't his thing\")\n",
    "doc = nlp(\"eating eats eat ate adjustable rafting ability meeting better\")\n",
    "for token in doc:\n",
    "    print(token, \"\\t\", token.lemma_, \"\\t\", token.lemma)"
   ]
  },
  {
   "cell_type": "code",
   "execution_count": 14,
   "id": "c2f90c8e-d883-428a-9ad3-6281ed7af160",
   "metadata": {},
   "outputs": [
    {
     "data": {
      "text/plain": [
       "['tok2vec', 'tagger', 'parser', 'attribute_ruler', 'lemmatizer', 'ner']"
      ]
     },
     "execution_count": 14,
     "metadata": {},
     "output_type": "execute_result"
    }
   ],
   "source": [
    "nlp.pipe_names"
   ]
  },
  {
   "cell_type": "code",
   "execution_count": 18,
   "id": "dba12188-59b6-4f31-b7ef-b437505385a3",
   "metadata": {},
   "outputs": [
    {
     "name": "stdout",
     "output_type": "stream",
     "text": [
      "Bro \t Brother\n",
      ", \t ,\n",
      "you \t you\n",
      "wanna \t wanna\n",
      "go \t go\n",
      "? \t ?\n",
      "Brah \t Brother\n",
      ", \t ,\n",
      "do \t do\n",
      "n't \t not\n",
      "say \t say\n",
      "no \t no\n",
      "! \t !\n",
      "I \t I\n",
      "am \t be\n",
      "exhausted \t exhaust\n"
     ]
    }
   ],
   "source": [
    "ar = nlp.get_pipe('attribute_ruler')\n",
    "\n",
    "ar.add([[{\"Text\": \"Bro\"}], [{\"Text\": \"Brah\"}]], {\"LEMMA\": \"Brother\"})\n",
    "\n",
    "doc = nlp(\"Bro, you wanna go? Brah, don't say no! I am exhausted\")\n",
    "for token in doc:\n",
    "    print(token.text, \"\\t\", token.lemma_)"
   ]
  }
 ],
 "metadata": {
  "kernelspec": {
   "display_name": "spacy_env",
   "language": "python",
   "name": "python3"
  },
  "language_info": {
   "codemirror_mode": {
    "name": "ipython",
    "version": 3
   },
   "file_extension": ".py",
   "mimetype": "text/x-python",
   "name": "python",
   "nbconvert_exporter": "python",
   "pygments_lexer": "ipython3",
   "version": "3.10.16"
  }
 },
 "nbformat": 4,
 "nbformat_minor": 5
}
