{
 "cells": [
  {
   "cell_type": "code",
   "execution_count": 1,
   "id": "72a590ac-20b3-4a9c-9b3c-c22e485861bd",
   "metadata": {},
   "outputs": [
    {
     "name": "stdout",
     "output_type": "stream",
     "text": [
      "(9900, 2)\n"
     ]
    },
    {
     "data": {
      "text/html": [
       "<div>\n",
       "<style scoped>\n",
       "    .dataframe tbody tr th:only-of-type {\n",
       "        vertical-align: middle;\n",
       "    }\n",
       "\n",
       "    .dataframe tbody tr th {\n",
       "        vertical-align: top;\n",
       "    }\n",
       "\n",
       "    .dataframe thead th {\n",
       "        text-align: right;\n",
       "    }\n",
       "</style>\n",
       "<table border=\"1\" class=\"dataframe\">\n",
       "  <thead>\n",
       "    <tr style=\"text-align: right;\">\n",
       "      <th></th>\n",
       "      <th>Text</th>\n",
       "      <th>label</th>\n",
       "    </tr>\n",
       "  </thead>\n",
       "  <tbody>\n",
       "    <tr>\n",
       "      <th>0</th>\n",
       "      <td>Top Trump Surrogate BRUTALLY Stabs Him In The...</td>\n",
       "      <td>Fake</td>\n",
       "    </tr>\n",
       "    <tr>\n",
       "      <th>1</th>\n",
       "      <td>U.S. conservative leader optimistic of common ...</td>\n",
       "      <td>Real</td>\n",
       "    </tr>\n",
       "    <tr>\n",
       "      <th>2</th>\n",
       "      <td>Trump proposes U.S. tax overhaul, stirs concer...</td>\n",
       "      <td>Real</td>\n",
       "    </tr>\n",
       "    <tr>\n",
       "      <th>3</th>\n",
       "      <td>Court Forces Ohio To Allow Millions Of Illega...</td>\n",
       "      <td>Fake</td>\n",
       "    </tr>\n",
       "    <tr>\n",
       "      <th>4</th>\n",
       "      <td>Democrats say Trump agrees to work on immigrat...</td>\n",
       "      <td>Real</td>\n",
       "    </tr>\n",
       "  </tbody>\n",
       "</table>\n",
       "</div>"
      ],
      "text/plain": [
       "                                                Text label\n",
       "0   Top Trump Surrogate BRUTALLY Stabs Him In The...  Fake\n",
       "1  U.S. conservative leader optimistic of common ...  Real\n",
       "2  Trump proposes U.S. tax overhaul, stirs concer...  Real\n",
       "3   Court Forces Ohio To Allow Millions Of Illega...  Fake\n",
       "4  Democrats say Trump agrees to work on immigrat...  Real"
      ]
     },
     "execution_count": 1,
     "metadata": {},
     "output_type": "execute_result"
    }
   ],
   "source": [
    "import pandas as pd\n",
    "\n",
    "df = pd.read_csv(\"Fake_Real_Data.csv\")\n",
    "\n",
    "print(df.shape)\n",
    "\n",
    "df.head(5)"
   ]
  },
  {
   "cell_type": "code",
   "execution_count": 3,
   "id": "46355031-d8e2-4bee-9891-1fca158c0359",
   "metadata": {},
   "outputs": [
    {
     "data": {
      "text/plain": [
       "label\n",
       "Fake    5000\n",
       "Real    4900\n",
       "Name: count, dtype: int64"
      ]
     },
     "execution_count": 3,
     "metadata": {},
     "output_type": "execute_result"
    }
   ],
   "source": [
    "df['label'].value_counts()"
   ]
  },
  {
   "cell_type": "code",
   "execution_count": 5,
   "id": "8d6b8c01-76f0-4f37-be9c-be6f9d7ea814",
   "metadata": {},
   "outputs": [
    {
     "data": {
      "text/html": [
       "<div>\n",
       "<style scoped>\n",
       "    .dataframe tbody tr th:only-of-type {\n",
       "        vertical-align: middle;\n",
       "    }\n",
       "\n",
       "    .dataframe tbody tr th {\n",
       "        vertical-align: top;\n",
       "    }\n",
       "\n",
       "    .dataframe thead th {\n",
       "        text-align: right;\n",
       "    }\n",
       "</style>\n",
       "<table border=\"1\" class=\"dataframe\">\n",
       "  <thead>\n",
       "    <tr style=\"text-align: right;\">\n",
       "      <th></th>\n",
       "      <th>Text</th>\n",
       "      <th>label</th>\n",
       "      <th>label_num</th>\n",
       "    </tr>\n",
       "  </thead>\n",
       "  <tbody>\n",
       "    <tr>\n",
       "      <th>0</th>\n",
       "      <td>Top Trump Surrogate BRUTALLY Stabs Him In The...</td>\n",
       "      <td>Fake</td>\n",
       "      <td>0</td>\n",
       "    </tr>\n",
       "    <tr>\n",
       "      <th>1</th>\n",
       "      <td>U.S. conservative leader optimistic of common ...</td>\n",
       "      <td>Real</td>\n",
       "      <td>1</td>\n",
       "    </tr>\n",
       "    <tr>\n",
       "      <th>2</th>\n",
       "      <td>Trump proposes U.S. tax overhaul, stirs concer...</td>\n",
       "      <td>Real</td>\n",
       "      <td>1</td>\n",
       "    </tr>\n",
       "    <tr>\n",
       "      <th>3</th>\n",
       "      <td>Court Forces Ohio To Allow Millions Of Illega...</td>\n",
       "      <td>Fake</td>\n",
       "      <td>0</td>\n",
       "    </tr>\n",
       "    <tr>\n",
       "      <th>4</th>\n",
       "      <td>Democrats say Trump agrees to work on immigrat...</td>\n",
       "      <td>Real</td>\n",
       "      <td>1</td>\n",
       "    </tr>\n",
       "  </tbody>\n",
       "</table>\n",
       "</div>"
      ],
      "text/plain": [
       "                                                Text label  label_num\n",
       "0   Top Trump Surrogate BRUTALLY Stabs Him In The...  Fake          0\n",
       "1  U.S. conservative leader optimistic of common ...  Real          1\n",
       "2  Trump proposes U.S. tax overhaul, stirs concer...  Real          1\n",
       "3   Court Forces Ohio To Allow Millions Of Illega...  Fake          0\n",
       "4  Democrats say Trump agrees to work on immigrat...  Real          1"
      ]
     },
     "execution_count": 5,
     "metadata": {},
     "output_type": "execute_result"
    }
   ],
   "source": [
    "df['label_num'] = df['label'].map({'Fake' : 0, 'Real': 1})\n",
    "\n",
    "df.head(5)"
   ]
  },
  {
   "cell_type": "code",
   "execution_count": 7,
   "id": "2de478f0-7ae8-4bbe-b8d4-f766a63c0680",
   "metadata": {},
   "outputs": [],
   "source": [
    "import spacy\n",
    "nlp = spacy.load(\"en_core_web_lg\")"
   ]
  },
  {
   "cell_type": "code",
   "execution_count": 9,
   "id": "df10d52e-c695-4901-8e38-5b2c6617c3d6",
   "metadata": {},
   "outputs": [],
   "source": [
    "df['vector'] = df['Text'].apply(lambda text: nlp(text).vector)"
   ]
  },
  {
   "cell_type": "code",
   "execution_count": 12,
   "id": "f56b90bd-4261-496b-9e37-467ddc676b59",
   "metadata": {},
   "outputs": [
    {
     "data": {
      "text/html": [
       "<div>\n",
       "<style scoped>\n",
       "    .dataframe tbody tr th:only-of-type {\n",
       "        vertical-align: middle;\n",
       "    }\n",
       "\n",
       "    .dataframe tbody tr th {\n",
       "        vertical-align: top;\n",
       "    }\n",
       "\n",
       "    .dataframe thead th {\n",
       "        text-align: right;\n",
       "    }\n",
       "</style>\n",
       "<table border=\"1\" class=\"dataframe\">\n",
       "  <thead>\n",
       "    <tr style=\"text-align: right;\">\n",
       "      <th></th>\n",
       "      <th>Text</th>\n",
       "      <th>label</th>\n",
       "      <th>label_num</th>\n",
       "      <th>vector</th>\n",
       "    </tr>\n",
       "  </thead>\n",
       "  <tbody>\n",
       "    <tr>\n",
       "      <th>0</th>\n",
       "      <td>Top Trump Surrogate BRUTALLY Stabs Him In The...</td>\n",
       "      <td>Fake</td>\n",
       "      <td>0</td>\n",
       "      <td>[-0.103623025, 0.17802684, -0.11873861, -0.034...</td>\n",
       "    </tr>\n",
       "    <tr>\n",
       "      <th>1</th>\n",
       "      <td>U.S. conservative leader optimistic of common ...</td>\n",
       "      <td>Real</td>\n",
       "      <td>1</td>\n",
       "      <td>[-0.0063406364, 0.16712041, -0.06661373, 0.017...</td>\n",
       "    </tr>\n",
       "    <tr>\n",
       "      <th>2</th>\n",
       "      <td>Trump proposes U.S. tax overhaul, stirs concer...</td>\n",
       "      <td>Real</td>\n",
       "      <td>1</td>\n",
       "      <td>[-0.122753024, 0.17192385, -0.024732638, -0.06...</td>\n",
       "    </tr>\n",
       "    <tr>\n",
       "      <th>3</th>\n",
       "      <td>Court Forces Ohio To Allow Millions Of Illega...</td>\n",
       "      <td>Fake</td>\n",
       "      <td>0</td>\n",
       "      <td>[-0.027337318, 0.12501417, -0.0073965387, -0.0...</td>\n",
       "    </tr>\n",
       "    <tr>\n",
       "      <th>4</th>\n",
       "      <td>Democrats say Trump agrees to work on immigrat...</td>\n",
       "      <td>Real</td>\n",
       "      <td>1</td>\n",
       "      <td>[-0.032708026, 0.093958504, -0.03287002, -0.00...</td>\n",
       "    </tr>\n",
       "  </tbody>\n",
       "</table>\n",
       "</div>"
      ],
      "text/plain": [
       "                                                Text label  label_num  \\\n",
       "0   Top Trump Surrogate BRUTALLY Stabs Him In The...  Fake          0   \n",
       "1  U.S. conservative leader optimistic of common ...  Real          1   \n",
       "2  Trump proposes U.S. tax overhaul, stirs concer...  Real          1   \n",
       "3   Court Forces Ohio To Allow Millions Of Illega...  Fake          0   \n",
       "4  Democrats say Trump agrees to work on immigrat...  Real          1   \n",
       "\n",
       "                                              vector  \n",
       "0  [-0.103623025, 0.17802684, -0.11873861, -0.034...  \n",
       "1  [-0.0063406364, 0.16712041, -0.06661373, 0.017...  \n",
       "2  [-0.122753024, 0.17192385, -0.024732638, -0.06...  \n",
       "3  [-0.027337318, 0.12501417, -0.0073965387, -0.0...  \n",
       "4  [-0.032708026, 0.093958504, -0.03287002, -0.00...  "
      ]
     },
     "execution_count": 12,
     "metadata": {},
     "output_type": "execute_result"
    }
   ],
   "source": [
    "df.head()"
   ]
  },
  {
   "cell_type": "code",
   "execution_count": 48,
   "id": "caed19eb-3287-4f81-b4b2-30f5fb360fd4",
   "metadata": {},
   "outputs": [],
   "source": [
    "from sklearn .model_selection import train_test_split\n",
    "\n",
    "X_train, X_test, y_train, y_test = train_test_split(\n",
    "    df.vector.values,\n",
    "    df.label_num,\n",
    "    test_size=0.2,\n",
    "    random_state=1032\n",
    ")"
   ]
  },
  {
   "cell_type": "code",
   "execution_count": 50,
   "id": "18defc5f-74b8-407e-8857-275fabec5da4",
   "metadata": {},
   "outputs": [
    {
     "data": {
      "text/plain": [
       "array([array([-3.87667976e-02,  1.00873835e-01, -6.60537705e-02, -5.79414852e-02,\n",
       "               7.77017251e-02, -1.24388719e-02, -1.53606990e-03, -5.54318093e-02,\n",
       "              -4.67504822e-02,  2.24241686e+00, -1.62239209e-01, -3.27274986e-02,\n",
       "               3.91132943e-02, -9.36442390e-02, -1.56693220e-01, -5.02153039e-02,\n",
       "              -6.66211769e-02,  7.83377767e-01, -1.51802555e-01, -4.44212593e-02,\n",
       "               2.61561871e-02, -7.75336623e-02,  1.34822279e-02, -2.83611957e-02,\n",
       "               2.08648853e-02,  1.00303739e-02, -1.32540062e-01, -2.08769888e-02,\n",
       "              -2.32777037e-02, -1.06235454e-03, -3.55132744e-02,  1.14656746e-01,\n",
       "              -5.61146885e-02,  5.29519171e-02,  6.99393526e-02, -1.01131901e-01,\n",
       "              -4.12501469e-02,  1.07328612e-02, -6.74291551e-02, -5.33584645e-03,\n",
       "              -1.73051283e-02,  4.29863371e-02,  2.44219545e-02, -4.78046760e-02,\n",
       "               5.28177433e-02,  8.92949663e-03, -8.50099251e-02, -1.55343385e-02,\n",
       "              -9.95482551e-04,  2.12262999e-02, -1.20699175e-01,  9.28117558e-02,\n",
       "              -2.94172242e-02, -8.59036052e-04,  5.05025275e-02,  2.52010096e-02,\n",
       "              -2.59350650e-02, -3.33092920e-02,  6.14359137e-03, -7.99171254e-02,\n",
       "              -7.02095702e-02,  3.15974280e-02, -1.93871781e-02,  1.16772510e-01,\n",
       "               3.13013755e-02,  2.71764584e-03, -2.28599422e-02,  3.02484408e-02,\n",
       "               6.15019612e-02,  4.39771265e-02,  4.16866643e-03,  4.62858304e-02,\n",
       "               1.45603448e-01, -7.21717328e-02,  9.66903567e-02, -3.13646458e-02,\n",
       "               6.41605854e-02, -1.85404737e-02, -1.71843823e-02,  1.71885312e-01,\n",
       "              -1.05989888e-01,  7.78652281e-02, -8.51929635e-02, -2.48483550e-02,\n",
       "               4.56209779e-02, -1.47784740e-01,  5.68556935e-02, -2.35413760e-01,\n",
       "               1.30323708e-01,  1.18612414e-02, -1.34492800e-01,  1.79547593e-02,\n",
       "               8.89680721e-03,  5.06547131e-02,  1.25702605e-01, -7.82424510e-02,\n",
       "              -7.47771636e-02,  6.17083488e-03, -3.94903384e-02, -5.62945716e-02,\n",
       "               2.51391418e-02,  5.12200519e-02, -4.56768163e-02, -6.42640889e-02,\n",
       "               4.53481302e-02, -7.18450129e-01,  4.34935056e-02,  3.96302342e-03,\n",
       "               2.19972916e-02,  5.16401008e-02,  2.77009122e-02, -1.07303508e-01,\n",
       "               6.97382092e-02, -8.39209482e-02, -8.48778617e-03,  1.79859083e-02,\n",
       "               7.42665827e-02, -1.93382166e-02, -7.82342553e-02, -2.95947753e-02,\n",
       "               4.96463552e-02,  6.31930074e-03,  9.82698519e-04, -1.99834490e-03,\n",
       "               6.39430387e-03,  4.04096618e-02,  1.89181548e-02, -9.52963382e-02,\n",
       "              -5.24682226e-03, -5.00340648e-02, -4.45957966e-02, -3.61336172e-02,\n",
       "              -1.22854397e-01, -3.43878493e-02,  3.03012300e-02, -3.82405929e-02,\n",
       "              -2.14030277e-02,  7.88619369e-02,  5.01820445e-03, -1.72996968e-02,\n",
       "              -1.27787352e+00,  9.41048712e-02,  1.19638026e-01,  1.94853880e-02,\n",
       "               5.85682914e-02, -3.25731412e-02, -2.07076725e-02,  5.60990013e-02,\n",
       "              -3.59171517e-02, -4.76646386e-02,  8.94108973e-03, -1.35875838e-02,\n",
       "               9.25090164e-02, -2.27148533e-02, -7.34181926e-02, -4.52803331e-04,\n",
       "              -9.93011370e-02, -5.01637980e-02, -1.29546123e-02,  6.00755727e-03,\n",
       "               1.03454292e-02,  3.57381068e-02, -5.13945706e-02,  1.92592095e-03,\n",
       "              -6.22892082e-02, -1.11506023e-01,  7.84810930e-02, -4.57500927e-02,\n",
       "               7.46934563e-02,  5.94885414e-03, -2.10333988e-02,  3.38552147e-02,\n",
       "               1.03779268e-02,  1.09188613e-02, -6.39974773e-02,  3.39209102e-02,\n",
       "              -5.51186427e-02,  3.66762280e-02,  8.67442694e-03, -6.09934144e-02,\n",
       "               2.67730001e-02,  2.18396029e-03, -4.30461392e-02, -9.52678993e-02,\n",
       "              -3.33706662e-02,  2.02225987e-02, -3.68547514e-02, -1.72527283e-02,\n",
       "               8.11681822e-02,  1.66206807e-02, -2.36007124e-02, -8.82075401e-04,\n",
       "              -7.24186078e-02,  4.20986228e-02,  6.43471926e-02,  1.46695003e-01,\n",
       "               1.13601396e-02, -6.18411414e-02, -3.25078331e-02,  1.07177064e-01,\n",
       "               1.42617179e-02, -2.02433318e-02, -3.08244340e-02, -9.25303102e-02,\n",
       "               1.73440218e-01, -4.98467532e-04,  2.98338030e-02, -6.83859140e-02,\n",
       "               3.01470049e-02, -4.85767908e-02, -6.85336292e-02,  2.49843616e-02,\n",
       "               2.42827181e-03,  2.88480632e-02,  5.49184196e-02,  1.29151449e-01,\n",
       "              -2.29696184e-02,  4.67585735e-02, -1.26082852e-01,  4.24569063e-02,\n",
       "              -2.98573766e-02,  1.36467004e-02, -8.35995898e-02,  2.12986972e-02,\n",
       "              -4.61596670e-03, -3.20456401e-02, -4.32214625e-02,  8.89820009e-02,\n",
       "               2.91048991e-03,  4.56561334e-02, -6.92972615e-02,  4.97370325e-02,\n",
       "               5.81963100e-02,  4.90012206e-02, -4.62926328e-02, -8.94157737e-02,\n",
       "               1.70808788e-02, -7.02312663e-02, -2.17391849e-02,  8.23402852e-02,\n",
       "               1.37785142e-02,  2.85544377e-02,  1.80394831e-03, -1.10059874e-02,\n",
       "               7.38915354e-02, -7.76712447e-02, -4.90974821e-02, -6.17779419e-02,\n",
       "              -1.47662431e-01,  6.21789955e-02,  1.24756470e-02,  2.62483489e-02,\n",
       "              -2.26187091e-02, -2.66359039e-02,  5.58047295e-02,  1.26525313e-01,\n",
       "               2.28203312e-02, -5.79567403e-02, -9.36583579e-02,  4.33597229e-02,\n",
       "               6.50133714e-02,  1.39049783e-01, -3.43625084e-03,  1.24095008e-01,\n",
       "               9.49329734e-02, -4.00433280e-02,  3.40386890e-02, -5.27810156e-02,\n",
       "               2.01769605e-01,  7.13784918e-02,  3.86739559e-02, -2.53098942e-02,\n",
       "              -8.72283578e-02, -9.99254137e-02, -2.43810806e-02,  1.89824589e-02,\n",
       "               4.35578674e-02,  5.46012931e-02, -4.53897240e-03,  1.14446692e-01,\n",
       "               1.25556007e-01,  4.01565284e-02, -6.62768842e-04,  3.31795737e-02,\n",
       "              -9.73562971e-02,  4.00284817e-03,  1.16888948e-01, -2.22311411e-02,\n",
       "               9.06481817e-02, -4.60186638e-02, -1.31766573e-01,  2.86350697e-02,\n",
       "              -3.44335102e-03, -6.16606772e-02,  2.13411469e-02,  5.26773706e-02,\n",
       "              -2.11359141e-03,  2.39086710e-02, -9.05476697e-03,  8.83138254e-02],\n",
       "             dtype=float32)                                                       ],\n",
       "      dtype=object)"
      ]
     },
     "execution_count": 50,
     "metadata": {},
     "output_type": "execute_result"
    }
   ],
   "source": [
    "X_train[:1]"
   ]
  },
  {
   "cell_type": "code",
   "execution_count": 52,
   "id": "bdda8600-caf9-4624-b24d-60cdaba59d49",
   "metadata": {},
   "outputs": [
    {
     "data": {
      "text/plain": [
       "array([[-0.0387668 ,  0.10087384, -0.06605377, ...,  0.02390867,\n",
       "        -0.00905477,  0.08831383],\n",
       "       [-0.133756  ,  0.18423922, -0.09768144, ..., -0.10326634,\n",
       "         0.02888165,  0.03980691],\n",
       "       [-0.04845724,  0.21334073, -0.06871974, ..., -0.01231161,\n",
       "        -0.02811426,  0.04735232],\n",
       "       ...,\n",
       "       [-0.04406273,  0.16056797, -0.09312736, ..., -0.03122947,\n",
       "        -0.03327612,  0.05987279],\n",
       "       [-0.04909129,  0.19871372, -0.11784896, ..., -0.0796856 ,\n",
       "         0.05645217,  0.06845304],\n",
       "       [-0.03020455,  0.13580486, -0.07180783, ...,  0.01844755,\n",
       "        -0.02806757,  0.14588563]], dtype=float32)"
      ]
     },
     "execution_count": 52,
     "metadata": {},
     "output_type": "execute_result"
    }
   ],
   "source": [
    "#we need to convert it to \n",
    "import numpy as np\n",
    "\n",
    "X_train_2d = np.stack(X_train)\n",
    "X_test_2d = np.stack(X_test)\n",
    "\n",
    "X_train_2d"
   ]
  },
  {
   "cell_type": "code",
   "execution_count": 54,
   "id": "f2f8b26a-a810-44be-98bb-cf272c167ff6",
   "metadata": {},
   "outputs": [
    {
     "name": "stdout",
     "output_type": "stream",
     "text": [
      "              precision    recall  f1-score   support\n",
      "\n",
      "           0       0.94      0.95      0.95       992\n",
      "           1       0.95      0.94      0.95       988\n",
      "\n",
      "    accuracy                           0.95      1980\n",
      "   macro avg       0.95      0.95      0.95      1980\n",
      "weighted avg       0.95      0.95      0.95      1980\n",
      "\n"
     ]
    }
   ],
   "source": [
    "from sklearn.naive_bayes import MultinomialNB\n",
    "from sklearn.preprocessing import MinMaxScaler\n",
    "from sklearn.metrics import classification_report\n",
    "\n",
    "scaler = MinMaxScaler()\n",
    "scaled_train_embed = scaler.fit_transform(X_train_2d)\n",
    "scaled_test_embed = scaler.transform(X_test_2d)\n",
    "\n",
    "clf = MultinomialNB()\n",
    "clf.fit(scaled_train_embed, y_train)\n",
    "\n",
    "y_pred = clf.predict(scaled_test_embed)\n",
    "\n",
    "print(classification_report(y_test, y_pred))"
   ]
  },
  {
   "cell_type": "code",
   "execution_count": 58,
   "id": "c338dd2b-59ec-4edb-8b25-92ab9ad45e80",
   "metadata": {},
   "outputs": [
    {
     "name": "stdout",
     "output_type": "stream",
     "text": [
      "              precision    recall  f1-score   support\n",
      "\n",
      "           0       0.98      0.96      0.97       992\n",
      "           1       0.96      0.98      0.97       988\n",
      "\n",
      "    accuracy                           0.97      1980\n",
      "   macro avg       0.97      0.97      0.97      1980\n",
      "weighted avg       0.97      0.97      0.97      1980\n",
      "\n"
     ]
    }
   ],
   "source": [
    "from  sklearn.neighbors import KNeighborsClassifier\n",
    "from sklearn.metrics import classification_report\n",
    "\n",
    "#creating a KNN model object\n",
    "clf = KNeighborsClassifier(n_neighbors = 5, metric = 'euclidean')\n",
    "\n",
    "clf.fit(X_train_2d, y_train)\n",
    "\n",
    "y_pred = clf.predict(X_test_2d)\n",
    "\n",
    "print(classification_report(y_test, y_pred))"
   ]
  },
  {
   "cell_type": "code",
   "execution_count": 60,
   "id": "eb45541c-9b09-423a-8884-87b89a47f8f2",
   "metadata": {},
   "outputs": [
    {
     "data": {
      "text/plain": [
       "array([[956,  36],\n",
       "       [ 19, 969]], dtype=int64)"
      ]
     },
     "execution_count": 60,
     "metadata": {},
     "output_type": "execute_result"
    }
   ],
   "source": [
    "from sklearn.metrics import confusion_matrix\n",
    "cm = confusion_matrix(y_test, y_pred)\n",
    "cm"
   ]
  },
  {
   "cell_type": "code",
   "execution_count": 62,
   "id": "14c0e1af-638b-4bca-a88c-dcf3fda0e3ac",
   "metadata": {},
   "outputs": [
    {
     "data": {
      "text/plain": [
       "Text(95.72222222222221, 0.5, 'Truth')"
      ]
     },
     "execution_count": 62,
     "metadata": {},
     "output_type": "execute_result"
    },
    {
     "data": {
      "image/png": "[encoded data removed]",
      "text/plain": [
       "<Figure size 1000x700 with 2 Axes>"
      ]
     },
     "metadata": {},
     "output_type": "display_data"
    }
   ],
   "source": [
    "from matplotlib import pyplot as plt\n",
    "import seaborn as sn\n",
    "\n",
    "categories = ['EAKE', 'REA']\n",
    "\n",
    "plt.figure(figsize = (10,7))\n",
    "sn.heatmap(cm, \n",
    "           annot=True, \n",
    "           fmt='d',\n",
    "           xticklabels=categories, \n",
    "           yticklabels=categories\n",
    "          )\n",
    "plt.xlabel('Prediction')\n",
    "plt.ylabel('Truth')"
   ]
  },
  {
   "cell_type": "markdown",
   "id": "497ad89b-fb90-4d09-9e98-7dee42599995",
   "metadata": {},
   "source": [
    "KNN model which didn't perform well in the vectorization techniques like Bag of words, and TF-IDF due to very high dimensional vector space, performed really well with glove vectors due to only 300-dimensional vectors and very good embeddings(similar and related words have almost similar embeddings) for the given text data.\n",
    "\n",
    "MultinomialNB model performed decently well but did not come into the top list because in the 300-dimensional vectors we also have the negative values present. The Naive Bayes model does not fit the data if there are negative values. So, to overcome this shortcoming, we have used the Min-Max scaler to bring down all the values between 0 to 1. In this process, there will be a possibility of variance and information loss among the data. But anyhow we got a decent recall and f1 scores."
   ]
  }
 ],
 "metadata": {
  "kernelspec": {
   "display_name": "Python [conda env:base] *",
   "language": "python",
   "name": "conda-base-py"
  },
  "language_info": {
   "codemirror_mode": {
    "name": "ipython",
    "version": 3
   },
   "file_extension": ".py",
   "mimetype": "text/x-python",
   "name": "python",
   "nbconvert_exporter": "python",
   "pygments_lexer": "ipython3",
   "version": "3.12.7"
  }
 },
 "nbformat": 4,
 "nbformat_minor": 5
}
